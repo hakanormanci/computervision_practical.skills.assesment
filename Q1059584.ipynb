{
 "cells": [
  {
   "cell_type": "code",
   "execution_count": 3,
   "id": "378421f6-89f9-4f03-86b7-d33faba75b5b",
   "metadata": {},
   "outputs": [
    {
     "name": "stdout",
     "output_type": "stream",
     "text": [
      "Found 5216 images belonging to 2 classes.\n",
      "Found 16 images belonging to 2 classes.\n",
      "Found 624 images belonging to 2 classes.\n"
     ]
    }
   ],
   "source": [
    "import tensorflow as tf\n",
    "from tensorflow.keras.preprocessing.image import ImageDataGenerator\n",
    "\n",
    "# Define the path to the dataset\n",
    "train_dir = 'chest_xray_org/train'\n",
    "val_dir = 'chest_xray_org/val'\n",
    "test_dir = 'chest_xray_org/test'\n",
    "\n",
    "# Rescale the images\n",
    "train_datagen = ImageDataGenerator(rescale=1.0/255, horizontal_flip=True)\n",
    "val_datagen = ImageDataGenerator(rescale=1.0/255)\n",
    "test_datagen = ImageDataGenerator(rescale=1.0/255)\n",
    "\n",
    "# Load images from the directory\n",
    "train_generator = train_datagen.flow_from_directory(train_dir, target_size=(224, 224), batch_size=32, class_mode='binary')\n",
    "val_generator = val_datagen.flow_from_directory(val_dir, target_size=(224, 224), batch_size=32, class_mode='binary')\n",
    "test_generator = test_datagen.flow_from_directory(test_dir, target_size=(224, 224), batch_size=32, class_mode='binary')\n"
   ]
  },
  {
   "cell_type": "code",
   "execution_count": 5,
   "id": "455d5707-9ef1-4fda-8439-7d3bcdf0702b",
   "metadata": {},
   "outputs": [],
   "source": [
    "from tensorflow.keras.applications import ResNet50\n",
    "from tensorflow.keras.models import Sequential\n",
    "from tensorflow.keras.layers import Dense, Flatten\n",
    "\n",
    "# Load the ResNet50 model with pre-trained weights on ImageNet\n",
    "base_model = ResNet50(weights='imagenet', include_top=False, input_shape=(224, 224, 3))\n",
    "\n",
    "# Build the model\n",
    "model = Sequential()\n",
    "model.add(base_model)\n",
    "model.add(Flatten())\n",
    "model.add(Dense(128, activation='relu'))\n",
    "model.add(Dense(1, activation='sigmoid'))\n",
    "\n",
    "# Compile the model\n",
    "model.compile(optimizer='adam', loss='binary_crossentropy', metrics=['accuracy'])\n"
   ]
  },
  {
   "cell_type": "code",
   "execution_count": 7,
   "id": "9542a7fd-824a-4616-87bb-c4fca60c947c",
   "metadata": {},
   "outputs": [
    {
     "name": "stderr",
     "output_type": "stream",
     "text": [
      "C:\\Users\\jhaka\\Desktop\\BSBI\\Courses\\Computer Vision\\assignment\\tfven\\Lib\\site-packages\\keras\\src\\trainers\\data_adapters\\py_dataset_adapter.py:121: UserWarning: Your `PyDataset` class should call `super().__init__(**kwargs)` in its constructor. `**kwargs` can include `workers`, `use_multiprocessing`, `max_queue_size`. Do not pass these arguments to `fit()`, as they will be ignored.\n",
      "  self._warn_if_super_not_called()\n"
     ]
    },
    {
     "name": "stdout",
     "output_type": "stream",
     "text": [
      "Epoch 1/10\n",
      "\u001b[1m163/163\u001b[0m \u001b[32m━━━━━━━━━━━━━━━━━━━━\u001b[0m\u001b[37m\u001b[0m \u001b[1m1474s\u001b[0m 9s/step - accuracy: 0.8941 - loss: 0.9780 - val_accuracy: 0.5000 - val_loss: 0.6931\n",
      "Epoch 2/10\n",
      "\u001b[1m163/163\u001b[0m \u001b[32m━━━━━━━━━━━━━━━━━━━━\u001b[0m\u001b[37m\u001b[0m \u001b[1m1485s\u001b[0m 9s/step - accuracy: 0.9137 - loss: 0.2017 - val_accuracy: 0.5000 - val_loss: 0.8278\n",
      "Epoch 3/10\n",
      "\u001b[1m163/163\u001b[0m \u001b[32m━━━━━━━━━━━━━━━━━━━━\u001b[0m\u001b[37m\u001b[0m \u001b[1m1495s\u001b[0m 9s/step - accuracy: 0.9529 - loss: 0.1316 - val_accuracy: 0.5000 - val_loss: 0.7351\n",
      "Epoch 4/10\n",
      "\u001b[1m163/163\u001b[0m \u001b[32m━━━━━━━━━━━━━━━━━━━━\u001b[0m\u001b[37m\u001b[0m \u001b[1m1462s\u001b[0m 9s/step - accuracy: 0.9508 - loss: 0.1556 - val_accuracy: 0.5000 - val_loss: 0.7157\n",
      "Epoch 5/10\n",
      "\u001b[1m163/163\u001b[0m \u001b[32m━━━━━━━━━━━━━━━━━━━━\u001b[0m\u001b[37m\u001b[0m \u001b[1m1563s\u001b[0m 10s/step - accuracy: 0.9651 - loss: 0.1037 - val_accuracy: 0.6875 - val_loss: 0.4843\n",
      "Epoch 6/10\n",
      "\u001b[1m163/163\u001b[0m \u001b[32m━━━━━━━━━━━━━━━━━━━━\u001b[0m\u001b[37m\u001b[0m \u001b[1m1597s\u001b[0m 10s/step - accuracy: 0.9658 - loss: 0.0881 - val_accuracy: 0.7500 - val_loss: 0.5721\n",
      "Epoch 7/10\n",
      "\u001b[1m163/163\u001b[0m \u001b[32m━━━━━━━━━━━━━━━━━━━━\u001b[0m\u001b[37m\u001b[0m \u001b[1m1583s\u001b[0m 10s/step - accuracy: 0.9818 - loss: 0.0615 - val_accuracy: 0.5625 - val_loss: 1.1179\n",
      "Epoch 8/10\n",
      "\u001b[1m163/163\u001b[0m \u001b[32m━━━━━━━━━━━━━━━━━━━━\u001b[0m\u001b[37m\u001b[0m \u001b[1m1618s\u001b[0m 10s/step - accuracy: 0.9842 - loss: 0.0440 - val_accuracy: 0.9375 - val_loss: 0.1713\n",
      "Epoch 9/10\n",
      "\u001b[1m163/163\u001b[0m \u001b[32m━━━━━━━━━━━━━━━━━━━━\u001b[0m\u001b[37m\u001b[0m \u001b[1m1605s\u001b[0m 10s/step - accuracy: 0.9848 - loss: 0.0432 - val_accuracy: 0.5000 - val_loss: 48.7568\n",
      "Epoch 10/10\n",
      "\u001b[1m163/163\u001b[0m \u001b[32m━━━━━━━━━━━━━━━━━━━━\u001b[0m\u001b[37m\u001b[0m \u001b[1m1607s\u001b[0m 10s/step - accuracy: 0.9860 - loss: 0.0410 - val_accuracy: 0.6875 - val_loss: 0.7522\n"
     ]
    }
   ],
   "source": [
    "# Train the model\n",
    "history = model.fit(train_generator, epochs=10, validation_data=val_generator, verbose=1)"
   ]
  },
  {
   "cell_type": "code",
   "execution_count": 11,
   "id": "2c173422-f77c-4045-862f-a06e13b7954b",
   "metadata": {},
   "outputs": [
    {
     "name": "stdout",
     "output_type": "stream",
     "text": [
      "\u001b[1m20/20\u001b[0m \u001b[32m━━━━━━━━━━━━━━━━━━━━\u001b[0m\u001b[37m\u001b[0m \u001b[1m47s\u001b[0m 2s/step - accuracy: 0.6898 - loss: 2.9020\n",
      "Test Accuracy: 0.7147436141967773\n",
      "\u001b[1m20/20\u001b[0m \u001b[32m━━━━━━━━━━━━━━━━━━━━\u001b[0m\u001b[37m\u001b[0m \u001b[1m45s\u001b[0m 2s/step\n",
      "              precision    recall  f1-score   support\n",
      "\n",
      "      Normal       0.44      0.12      0.18       234\n",
      "   Pneumonia       0.63      0.91      0.75       390\n",
      "\n",
      "    accuracy                           0.61       624\n",
      "   macro avg       0.53      0.51      0.46       624\n",
      "weighted avg       0.56      0.61      0.53       624\n",
      "\n"
     ]
    }
   ],
   "source": [
    "from sklearn.metrics import classification_report, confusion_matrix, accuracy_score\n",
    "\n",
    "# Evaluate model on test dataset\n",
    "test_loss, test_accuracy = model.evaluate(test_generator)\n",
    "print(f\"Test Accuracy: {test_accuracy}\")\n",
    "\n",
    "# Make predictions on test set\n",
    "Y_pred = model.predict(test_generator)\n",
    "y_pred = (Y_pred > 0.5).astype(int)\n",
    "\n",
    "# Generate classification report\n",
    "print(classification_report(test_generator.classes, y_pred, target_names=['Normal', 'Pneumonia']))\n"
   ]
  },
  {
   "cell_type": "code",
   "execution_count": null,
   "id": "3abc5010-0ff7-4eb7-864f-ed5f719721fa",
   "metadata": {},
   "outputs": [],
   "source": []
  }
 ],
 "metadata": {
  "kernelspec": {
   "display_name": "tfven",
   "language": "python",
   "name": "tfven"
  },
  "language_info": {
   "codemirror_mode": {
    "name": "ipython",
    "version": 3
   },
   "file_extension": ".py",
   "mimetype": "text/x-python",
   "name": "python",
   "nbconvert_exporter": "python",
   "pygments_lexer": "ipython3",
   "version": "3.12.0"
  }
 },
 "nbformat": 4,
 "nbformat_minor": 5
}
